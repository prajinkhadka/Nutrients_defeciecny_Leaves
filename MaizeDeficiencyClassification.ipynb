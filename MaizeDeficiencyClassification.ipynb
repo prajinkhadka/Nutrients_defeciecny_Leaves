{
 "cells": [
  {
   "cell_type": "code",
   "execution_count": 5,
   "metadata": {},
   "outputs": [
    {
     "name": "stdout",
     "output_type": "stream",
     "text": [
      "g:\\0PROJECTS\n"
     ]
    }
   ],
   "source": [
    "import os\n",
    "print(os.getcwd())"
   ]
  },
  {
   "cell_type": "code",
   "execution_count": 1,
   "metadata": {},
   "outputs": [
    {
     "name": "stdout",
     "output_type": "stream",
     "text": [
      "WARNING:tensorflow:From C:\\Users\\USER\\Anaconda3\\lib\\site-packages\\tensorflow\\python\\ops\\resource_variable_ops.py:435: colocate_with (from tensorflow.python.framework.ops) is deprecated and will be removed in a future version.\n",
      "Instructions for updating:\n",
      "Colocations handled automatically by placer.\n",
      "WARNING:tensorflow:From C:\\Users\\USER\\Anaconda3\\lib\\site-packages\\tensorflow\\python\\keras\\layers\\core.py:143: calling dropout (from tensorflow.python.ops.nn_ops) with keep_prob is deprecated and will be removed in a future version.\n",
      "Instructions for updating:\n",
      "Please use `rate` instead of `keep_prob`. Rate should be set to `rate = 1 - keep_prob`.\n"
     ]
    }
   ],
   "source": [
    "import tensorflow as tf\n",
    "IM_SIZE = 128\n",
    "\n",
    "# This Code Block should Define and Compile the Model\n",
    "model = tf.keras.models.Sequential([\n",
    "    tf.keras.layers.Conv2D(32,(3,3), activation = 'relu', input_shape = (IM_SIZE,IM_SIZE,3)),\n",
    "    tf.keras.layers.MaxPooling2D(padding='same'),\n",
    "    tf.keras.layers.Conv2D(32,(3,3), activation = 'relu'),\n",
    "    tf.keras.layers.MaxPooling2D(padding='same'),\n",
    "    tf.keras.layers.Flatten(),\n",
    "    tf.keras.layers.Dense(128,activation = 'relu'),\n",
    "    tf.keras.layers.Dropout(0.2),\n",
    "    tf.keras.layers.Dense(128,activation = 'relu'),\n",
    "    tf.keras.layers.Dropout(0.2),\n",
    "    tf.keras.layers.Dense(4,activation = 'softmax', name='deficiency')\n",
    "# Your Code Here\n",
    "])"
   ]
  },
  {
   "cell_type": "code",
   "execution_count": null,
   "metadata": {},
   "outputs": [],
   "source": [
    "# Serialize images, together with labels, to TF records\n",
    "def _bytes_feature(value):\n",
    "    return tf.train.Feature(bytes_list=tf.train.BytesList(value=[value]))\n",
    "\n",
    "tf_records_filename = './data/leaves_{}'.format(IM_SIZE)\n",
    "writer = tf.python_io.TFRecordWriter(tf_records_filename)\n",
    "\n",
    "# List of image paths, np array of labels\n",
    "im_list = [os.path.join('./data/train', v + '.jpg') for v in df_train['image_name'].tolist()]\n",
    "output_labels_arr = np.array([ast.literal_eval(l) for l in df_train['output_labels']])\n",
    "\n",
    "# Loop over images and labels, wrap in TF Examples, write away to TFRecord file\n",
    "for i in range(len(df_train)):\n",
    "    output_labels = output_labels_arr[i].astype(np.float32)\n",
    "    im = np.array(img_to_array(load_img(im_list[i], target_size=(IM_SIZE, IM_SIZE))) / 255.)\n",
    "    \n",
    "    example = tf.train.Example(features=tf.train.Features(feature={'image': _bytes_feature(im.tostring()),\n",
    "                                                                  'output_labels': _bytes_feature(w_labels.tostring())\n",
    "                                                                  }))\n",
    "    \n",
    "    writer.write(example.SerializeToString())\n",
    "    \n",
    "writer.close()"
   ]
  }
 ],
 "metadata": {
  "kernelspec": {
   "display_name": "Python 3",
   "language": "python",
   "name": "python3"
  },
  "language_info": {
   "codemirror_mode": {
    "name": "ipython",
    "version": 3
   },
   "file_extension": ".py",
   "mimetype": "text/x-python",
   "name": "python",
   "nbconvert_exporter": "python",
   "pygments_lexer": "ipython3",
   "version": "3.6.8"
  }
 },
 "nbformat": 4,
 "nbformat_minor": 2
}
